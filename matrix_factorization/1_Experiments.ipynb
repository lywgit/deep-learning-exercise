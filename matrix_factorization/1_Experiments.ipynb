{
 "cells": [
  {
   "cell_type": "markdown",
   "metadata": {},
   "source": [
    "# Matrix Factorization with NN (1. Experiments)\n",
    "\n",
    "* See [0_Problem.ipynb](0_Problem.ipynb) for problem background.\n",
    "* Pack model into a class for easy resue and try on larger matrices \n",
    "* Experiment on two matrix cases \n",
    "    1. $M$ is random matrix, \n",
    "    2. $M$ is a product of two random matrices $M = M_1 M_2$ (hence not completely random). \n",
    "* Experiment with the length of the latent vector (the number of NN in the hiddent layer). It changes the capacity of the model (number of free parameters)."
   ]
  },
  {
   "cell_type": "code",
   "execution_count": 1,
   "metadata": {},
   "outputs": [
    {
     "name": "stdout",
     "output_type": "stream",
     "text": [
      "1.10.0\n"
     ]
    }
   ],
   "source": [
    "import warnings\n",
    "warnings.simplefilter('ignore', category=FutureWarning)\n",
    "\n",
    "import numpy as np\n",
    "import tensorflow as tf\n",
    "\n",
    "print(tf.__version__)\n",
    "np.set_printoptions(precision=4, suppress=True)"
   ]
  },
  {
   "cell_type": "markdown",
   "metadata": {},
   "source": [
    "## Model \n",
    "\n",
    "* Add batchsize to accomodate larger matrices. Also shuffule between epochs."
   ]
  },
  {
   "cell_type": "code",
   "execution_count": 2,
   "metadata": {},
   "outputs": [],
   "source": [
    "# input matrix_shape\n",
    "\n",
    "class MatrixFactoriztionNN():\n",
    "    \n",
    "    def __init__(self, matrix, hidden_size):\n",
    "        self.matrix = matrix\n",
    "        num_row = matrix.shape[0];\n",
    "        num_col = matrix.shape[1];\n",
    "        \n",
    "        self.x = tf.placeholder(tf.float32, [None, num_row], name='x') # input a 1-of-num_column vector\n",
    "        self.y = tf.placeholder(tf.float32, [None, num_col], name='y') # output the activated row vector\n",
    "\n",
    "        self.W1 = tf.Variable(tf.random_normal([num_row, hidden_size]))\n",
    "        l1 = tf.matmul(self.x, self.W1)\n",
    "        self.W2 = tf.Variable(tf.random_normal([hidden_size, num_col]))\n",
    "        self.pred = tf.matmul(l1, self.W2)\n",
    "    \n",
    "\n",
    "    def solve(self, optimizer=tf.train.AdamOptimizer(), rmse_tolerance = None, max_epoch = 10000, batch_size=None, verbose=True): \n",
    "        (x, y, pred) = (self.x, self.y, self.pred)\n",
    "        loss = tf.reduce_mean(tf.square(self.pred - self.y)) # mse of the activated row\n",
    "        matrix_pred = tf.matmul(self.W1, self.W2)\n",
    "        matrix_mse = tf.reduce_mean(tf.square(matrix_pred - self.matrix)) # mse of whole matrix\n",
    "        matrix_rmse = tf.sqrt(matrix_mse)\n",
    "        \n",
    "#         optimize_step = optimizer.minimize(loss) \n",
    "        optimize_step = optimizer.minimize(matrix_mse) \n",
    "        \n",
    "        # Form data and batching\n",
    "        (num_row, num_col) = self.matrix.shape        \n",
    "        if batch_size is None:\n",
    "            batch_size = num_row\n",
    "        x_data = np.eye(num_row) # 1-of-num_row vectors\n",
    "        y_data = self.matrix\n",
    "        row_index = np.arange(self.matrix.shape[0])\n",
    "        feed_dict = {x: x_data, y:y_data}\n",
    "        \n",
    "        with tf.Session() as sess:\n",
    "            sess.run(tf.global_variables_initializer())\n",
    "            for epoch in range(max_epoch):\n",
    "                np.random.shuffle(row_index) # shuffle (in place) every epoch \n",
    "                for i_batch in range(int(np.ceil(num_row/batch_size))):\n",
    "                    row = row_index[i_batch*batch_size:(i_batch+1)*batch_size]\n",
    "                    feed_dict = {x:x_data[row,:], y:y_data[row,:]}                   \n",
    "                    o_pred, o_loss, o_matrix_rmse = sess.run([pred, loss, matrix_rmse], feed_dict)\n",
    "                    if verbose:\n",
    "                        if epoch % 2000 == 0:\n",
    "                            print('Epoch: {}  loss: {:.5e}  matrix_rmse: {:.5e}'.format(epoch, o_loss, o_matrix_rmse))\n",
    "                            \n",
    "                    sess.run(optimize_step, feed_dict)\n",
    "                if rmse_tolerance is not None:\n",
    "                    if o_matrix_rmse < rmse_tolerance: \n",
    "                        print('Desired tolerance reached, stopping early')\n",
    "                        break\n",
    "                    \n",
    "            # done\n",
    "            result = sess.run([self.W1, self.W2, matrix_rmse])\n",
    "            if verbose:\n",
    "                print('W1\\n', result[0])\n",
    "                print('W2\\n', result[1])\n",
    "                print('matrix rmse: {:.5e}'.format(o_matrix_rmse))\n",
    "        return result\n"
   ]
  },
  {
   "cell_type": "markdown",
   "metadata": {},
   "source": [
    "## Matrix Generator \n",
    "\n",
    "* Generate random matrix $M$. \n",
    "    * Beware that it returns intrinsically random $M$ (not $M=M_1M_2$ in the previous notebook).\n",
    "* Note: The `keep_prob` input allow one to set a protion of matrix element to 0. The intention was to mimic a sparse matrix, but this is not explored in this notebook (and this is not realistic anyway)."
   ]
  },
  {
   "cell_type": "code",
   "execution_count": 3,
   "metadata": {},
   "outputs": [],
   "source": [
    "def mat_gen(shape, keep_prob=None, seed=None):\n",
    "    if seed is not None:\n",
    "        np.random.seed(seed)\n",
    "    mat = np.random.random(shape)\n",
    "    if keep_prob is not None:\n",
    "        mask = np.random.choice([True, False], size = shape, p = [keep_prob, 1-keep_prob])\n",
    "        mat = mat * mask\n",
    "    return mat"
   ]
  },
  {
   "cell_type": "markdown",
   "metadata": {},
   "source": [
    "## Quick Check"
   ]
  },
  {
   "cell_type": "markdown",
   "metadata": {},
   "source": [
    "### M[2x4], vector dimension 3 \n",
    "\n",
    "* Result: can reach very small rmse. The algorithm can work. \n"
   ]
  },
  {
   "cell_type": "code",
   "execution_count": 4,
   "metadata": {},
   "outputs": [
    {
     "name": "stdout",
     "output_type": "stream",
     "text": [
      "M:\n",
      " [[0.5488 0.7152 0.6028 0.5449]\n",
      " [0.4237 0.6459 0.4376 0.8918]]\n",
      "Epoch: 0  loss: 4.73433e+00  matrix_rmse: 2.17585e+00\n",
      "Epoch: 2000  loss: 1.04352e-02  matrix_rmse: 1.02153e-01\n",
      "Epoch: 4000  loss: 9.61868e-03  matrix_rmse: 9.80749e-02\n",
      "Epoch: 6000  loss: 9.30671e-03  matrix_rmse: 9.64713e-02\n",
      "Epoch: 8000  loss: 2.05144e-05  matrix_rmse: 4.52928e-03\n",
      "Epoch: 10000  loss: 1.31117e-13  matrix_rmse: 3.62101e-07\n",
      "Epoch: 12000  loss: 1.25455e-14  matrix_rmse: 1.12007e-07\n",
      "Epoch: 14000  loss: 1.69864e-14  matrix_rmse: 1.30332e-07\n",
      "Epoch: 16000  loss: 1.41027e-09  matrix_rmse: 3.75535e-05\n",
      "Epoch: 18000  loss: 1.61422e-08  matrix_rmse: 1.27052e-04\n",
      "Epoch: 20000  loss: 1.42772e-10  matrix_rmse: 1.19487e-05\n",
      "Epoch: 22000  loss: 9.24816e-14  matrix_rmse: 3.04108e-07\n",
      "Epoch: 24000  loss: 7.92980e-09  matrix_rmse: 8.90494e-05\n",
      "Epoch: 26000  loss: 1.28567e-08  matrix_rmse: 1.13387e-04\n",
      "Epoch: 28000  loss: 7.09022e-10  matrix_rmse: 2.66275e-05\n",
      "W1\n",
      " [[ 0.9695 -0.8923 -0.7954]\n",
      " [ 1.1775 -1.7275 -0.6895]]\n",
      "W2\n",
      " [[-1.7275  0.2259  1.6583 -0.8629]\n",
      " [-0.5558  0.0527  0.675  -0.7446]\n",
      " [-2.1722 -0.6829  0.5062 -0.9016]]\n",
      "matrix rmse: 1.54890e-06\n",
      "M:\n",
      " [[0.5488 0.7152 0.6028 0.5449]\n",
      " [0.4237 0.6459 0.4376 0.8918]]\n",
      "W1W2:\n",
      " [[0.5488 0.7152 0.6028 0.5449]\n",
      " [0.4237 0.6459 0.4376 0.8918]]\n"
     ]
    }
   ],
   "source": [
    "# Set dimension of M and the size of hidden layer\n",
    "# ------\n",
    "num_row = 2\n",
    "num_col = 4\n",
    "hidden_size = 3 # The size (number of NN) of the hidden layer, also correspondes to the intended vector size to be learned  \n",
    "# ------\n",
    "\n",
    "M = mat_gen([num_row, num_col], keep_prob=1., seed=0)\n",
    "print('M:\\n', M)\n",
    "\n",
    "# solve\n",
    "batch_size = None\n",
    "model = MatrixFactoriztionNN(M, hidden_size) \n",
    "[W1, W2, rmse] = model.solve(max_epoch = 30000, rmse_tolerance=1e-10, batch_size=batch_size)\n",
    "print('M:\\n', M)\n",
    "print('W1W2:\\n', np.matmul(W1, W2))"
   ]
  },
  {
   "cell_type": "markdown",
   "metadata": {},
   "source": [
    "### Slightly larger matrix [4x8] / vector dimension 3\n",
    "\n",
    "* Result: Stucked at a much higher rmse of ~1e-2"
   ]
  },
  {
   "cell_type": "code",
   "execution_count": 5,
   "metadata": {},
   "outputs": [
    {
     "name": "stdout",
     "output_type": "stream",
     "text": [
      "M:\n",
      " [[0.5488 0.7152 0.6028 0.5449 0.4237 0.6459 0.4376 0.8918]\n",
      " [0.9637 0.3834 0.7917 0.5289 0.568  0.9256 0.071  0.0871]\n",
      " [0.0202 0.8326 0.7782 0.87   0.9786 0.7992 0.4615 0.7805]\n",
      " [0.1183 0.6399 0.1434 0.9447 0.5218 0.4147 0.2646 0.7742]]\n",
      "Epoch: 0  loss: 2.28214e+00  matrix_rmse: 1.51068e+00\n",
      "Epoch: 2000  loss: 3.77897e-02  matrix_rmse: 1.94396e-01\n",
      "Epoch: 4000  loss: 1.41602e-02  matrix_rmse: 1.18997e-01\n",
      "Epoch: 6000  loss: 7.51976e-03  matrix_rmse: 8.67165e-02\n",
      "Epoch: 8000  loss: 5.77189e-03  matrix_rmse: 7.59730e-02\n",
      "Epoch: 10000  loss: 5.67451e-03  matrix_rmse: 7.53293e-02\n",
      "Epoch: 12000  loss: 5.67430e-03  matrix_rmse: 7.53279e-02\n",
      "Epoch: 14000  loss: 5.67430e-03  matrix_rmse: 7.53280e-02\n",
      "Epoch: 16000  loss: 5.67430e-03  matrix_rmse: 7.53280e-02\n",
      "Epoch: 18000  loss: 5.67430e-03  matrix_rmse: 7.53280e-02\n",
      "Epoch: 20000  loss: 5.67430e-03  matrix_rmse: 7.53280e-02\n",
      "Epoch: 22000  loss: 5.67442e-03  matrix_rmse: 7.53288e-02\n",
      "Epoch: 24000  loss: 5.67430e-03  matrix_rmse: 7.53279e-02\n",
      "Epoch: 26000  loss: 5.67430e-03  matrix_rmse: 7.53280e-02\n",
      "Epoch: 28000  loss: 5.67430e-03  matrix_rmse: 7.53280e-02\n",
      "W1\n",
      " [[-0.3318 -0.8672 -0.7648]\n",
      " [ 0.7962 -0.7461 -1.5134]\n",
      " [ 0.2658 -0.8127 -0.7379]\n",
      " [-0.4368 -0.6475 -0.2378]]\n",
      "W2\n",
      " [[-0.9436  0.3168  0.434   0.567   1.0397  0.3361  0.1491 -0.0414]\n",
      " [ 1.1727 -1.4826 -0.7746 -1.8277 -1.8775 -0.8653 -0.8357 -1.5265]\n",
      " [-1.6948  0.6362  0.0454  0.9094  1.1033 -0.0084  0.4136  0.6529]]\n",
      "matrix rmse: 7.53280e-02\n",
      "M:\n",
      " [[0.5488 0.7152 0.6028 0.5449 0.4237 0.6459 0.4376 0.8918]\n",
      " [0.9637 0.3834 0.7917 0.5289 0.568  0.9256 0.071  0.0871]\n",
      " [0.0202 0.8326 0.7782 0.87   0.9786 0.7992 0.4615 0.7805]\n",
      " [0.1183 0.6399 0.1434 0.9447 0.5218 0.4147 0.2646 0.7742]]\n",
      "W1W2:\n",
      " [[0.5923 0.694  0.493  0.7013 0.4394 0.6453 0.3589 0.8382]\n",
      " [0.9387 0.3956 0.8549 0.4388 0.559  0.9259 0.1163 0.118 ]\n",
      " [0.0466 0.8197 0.7114 0.9651 0.9882 0.7988 0.4137 0.7479]\n",
      " [0.0558 0.6704 0.3012 0.7196 0.4992 0.4155 0.3777 0.8513]]\n"
     ]
    }
   ],
   "source": [
    "# ------\n",
    "num_row = 4\n",
    "num_col = 8\n",
    "hidden_size = 3\n",
    "# ------\n",
    "\n",
    "M = mat_gen([num_row, num_col], keep_prob=1., seed=0)\n",
    "print('M:\\n', M)\n",
    "\n",
    "# solve\n",
    "batch_size = None\n",
    "model = MatrixFactoriztionNN(M, hidden_size) \n",
    "[W1, W2, rmse] = model.solve(max_epoch = 30000, rmse_tolerance=1e-10, batch_size=batch_size)\n",
    "print('M:\\n', M)\n",
    "print('W1W2:\\n', np.matmul(W1, W2))"
   ]
  },
  {
   "cell_type": "markdown",
   "metadata": {},
   "source": [
    "### Slightly larger matrix [4x8] / vector dimension 6 \n",
    "\n",
    "* Result: relatively better rmse than the previous one ~1e-4\n",
    "* The increased model capacity (more free parameters) can fit the matrix better. "
   ]
  },
  {
   "cell_type": "code",
   "execution_count": 6,
   "metadata": {},
   "outputs": [
    {
     "name": "stdout",
     "output_type": "stream",
     "text": [
      "M:\n",
      " [[0.5488 0.7152 0.6028 0.5449 0.4237 0.6459 0.4376 0.8918]\n",
      " [0.9637 0.3834 0.7917 0.5289 0.568  0.9256 0.071  0.0871]\n",
      " [0.0202 0.8326 0.7782 0.87   0.9786 0.7992 0.4615 0.7805]\n",
      " [0.1183 0.6399 0.1434 0.9447 0.5218 0.4147 0.2646 0.7742]]\n",
      "Epoch: 0  loss: 4.20949e+00  matrix_rmse: 2.05170e+00\n",
      "Epoch: 2000  loss: 7.38307e-03  matrix_rmse: 8.59248e-02\n",
      "Epoch: 4000  loss: 1.53214e-03  matrix_rmse: 3.91425e-02\n",
      "Epoch: 6000  loss: 3.37501e-04  matrix_rmse: 1.83712e-02\n",
      "Epoch: 8000  loss: 2.13333e-05  matrix_rmse: 4.61880e-03\n",
      "Epoch: 10000  loss: 4.79677e-08  matrix_rmse: 2.19015e-04\n",
      "Epoch: 12000  loss: 1.50860e-13  matrix_rmse: 3.88407e-07\n",
      "Epoch: 14000  loss: 2.08570e-12  matrix_rmse: 1.44420e-06\n",
      "Epoch: 16000  loss: 4.39027e-10  matrix_rmse: 2.09530e-05\n",
      "Epoch: 18000  loss: 5.77975e-11  matrix_rmse: 7.60246e-06\n",
      "Epoch: 20000  loss: 1.50767e-08  matrix_rmse: 1.22787e-04\n",
      "Epoch: 22000  loss: 4.94168e-10  matrix_rmse: 2.22299e-05\n",
      "Epoch: 24000  loss: 2.07211e-10  matrix_rmse: 1.43948e-05\n",
      "Epoch: 26000  loss: 9.30492e-11  matrix_rmse: 9.64620e-06\n",
      "Epoch: 28000  loss: 1.31530e-07  matrix_rmse: 3.62671e-04\n",
      "W1\n",
      " [[-1.2634  0.7761  0.5663  0.8913  0.1769  0.7624]\n",
      " [ 0.6555 -0.7303  0.3255 -0.5332 -0.7091 -0.6964]\n",
      " [-1.1764  0.5658  0.62    0.3003  0.5194  0.4839]\n",
      " [-0.0607 -0.0515  0.3394 -0.3533 -0.0968 -0.4137]]\n",
      "W2\n",
      " [[-0.7298 -1.0496 -0.1209 -1.387  -0.3224 -0.7188  0.1766 -0.0006]\n",
      " [-1.2308  0.3181 -1.8832  0.3104 -0.8498 -1.7911  0.1389  2.0903]\n",
      " [ 0.3675  0.346   1.6087  0.2356  1.3586  1.2585  0.7794  0.8349]\n",
      " [ 0.6755 -0.7455  0.2791 -0.4779 -0.4058  0.5918  0.6037 -0.4255]\n",
      " [-1.051  -0.8001  0.3513 -0.5066  0.4654  0.1971  0.4837 -0.661 ]\n",
      " [-0.0552 -0.3247  0.9048 -1.3986  0.244  -0.193  -0.6718 -0.9285]]\n",
      "matrix rmse: 2.13660e-05\n",
      "M:\n",
      " [[0.5488 0.7152 0.6028 0.5449 0.4237 0.6459 0.4376 0.8918]\n",
      " [0.9637 0.3834 0.7917 0.5289 0.568  0.9256 0.071  0.0871]\n",
      " [0.0202 0.8326 0.7782 0.87   0.9786 0.7992 0.4615 0.7805]\n",
      " [0.1183 0.6399 0.1434 0.9447 0.5218 0.4147 0.2646 0.7742]]\n",
      "W1W2:\n",
      " [[0.5488 0.7152 0.6028 0.5449 0.4237 0.6459 0.4376 0.8918]\n",
      " [0.9636 0.3834 0.7917 0.5289 0.568  0.9256 0.071  0.0871]\n",
      " [0.0202 0.8326 0.7782 0.87   0.9786 0.7992 0.4615 0.7805]\n",
      " [0.1183 0.6399 0.1433 0.9447 0.5218 0.4146 0.2646 0.7742]]\n"
     ]
    }
   ],
   "source": [
    "# ------\n",
    "num_row = 4\n",
    "num_col = 8\n",
    "hidden_size = 6\n",
    "# ------\n",
    "\n",
    "M = mat_gen([num_row, num_col], keep_prob=1., seed=0)\n",
    "print('M:\\n', M)\n",
    "\n",
    "# solve\n",
    "batch_size = None\n",
    "model = MatrixFactoriztionNN(M, hidden_size) \n",
    "[W1, W2, rmse] = model.solve(max_epoch = 30000, rmse_tolerance=1e-10, batch_size=batch_size)\n",
    "print('M:\\n', M)\n",
    "print('W1W2:\\n', np.matmul(W1, W2))"
   ]
  },
  {
   "cell_type": "markdown",
   "metadata": {},
   "source": [
    "## Systemetic Exploration Using larger matrix [40x80] "
   ]
  },
  {
   "cell_type": "markdown",
   "metadata": {},
   "source": [
    "### A. Random matrix $M$ [40x80]\n",
    "\n",
    "* Realize that the model capacity is critical, because the data $M$ is **RANDOM**, and there are no latent features to learn. In other words, the pixels are all independent, so there's no way to dig out any hidden structure from the noise. \n",
    "* In the case of 40x80 matrix, ~26 hidden units should give enough free parameters (40\\*80 ~= 40\\*26 + 80\\*26). \n",
    "* Below we test different values between about 2~50"
   ]
  },
  {
   "cell_type": "code",
   "execution_count": 7,
   "metadata": {},
   "outputs": [
    {
     "name": "stdout",
     "output_type": "stream",
     "text": [
      "[ 2  3  4  5 10 15 20 25 30 35 40 45 50]\n"
     ]
    }
   ],
   "source": [
    "# The list of different vector lengths to try\n",
    "h_list = np.append([2, 3, 4], np.arange(5, 55, 5))\n",
    "print(h_list)"
   ]
  },
  {
   "cell_type": "code",
   "execution_count": 8,
   "metadata": {},
   "outputs": [
    {
     "name": "stdout",
     "output_type": "stream",
     "text": [
      "M:\n",
      " [[0.5488 0.7152 0.6028 ... 0.1202 0.2961 0.1187]\n",
      " [0.318  0.4143 0.0641 ... 0.5691 0.4072 0.0692]\n",
      " [0.6974 0.4535 0.7221 ... 0.4636 0.2776 0.5868]\n",
      " ...\n",
      " [0.238  0.9016 0.5085 ... 0.0598 0.3022 0.6772]\n",
      " [0.5779 0.3307 0.8335 ... 0.5956 0.8253 0.2738]\n",
      " [0.9175 0.7577 0.0613 ... 0.6341 0.5777 0.6019]]\n",
      "Case 2 rmse:  0.2763079\n",
      "Case 3 rmse:  0.26690912\n",
      "Case 4 rmse:  0.25790924\n",
      "Case 5 rmse:  0.24908374\n",
      "Case 10 rmse:  0.20855233\n",
      "Case 15 rmse:  0.17081974\n",
      "Case 20 rmse:  0.13491172\n",
      "Case 25 rmse:  0.10220961\n",
      "Case 30 rmse:  0.07192991\n",
      "Case 35 rmse:  0.0418689\n",
      "Case 40 rmse:  0.0011975422\n",
      "Case 45 rmse:  0.00078521715\n",
      "Case 50 rmse:  0.0006333966\n"
     ]
    }
   ],
   "source": [
    "# ------\n",
    "num_row = 40\n",
    "num_col = 80\n",
    "# ------\n",
    "\n",
    "M = mat_gen([num_row, num_col], keep_prob=1., seed=0)\n",
    "print('M:\\n', M)\n",
    "\n",
    "rmse_A = []\n",
    "for hidden_size in h_list:\n",
    "    model = MatrixFactoriztionNN(M, hidden_size) \n",
    "    [W1, W2, rmse] = model.solve(max_epoch = 30000, rmse_tolerance=1e-10, verbose=False)\n",
    "    print('Case ' + str(hidden_size)+ ' rmse: ', rmse)\n",
    "    rmse_A.append(rmse)\n"
   ]
  },
  {
   "cell_type": "markdown",
   "metadata": {},
   "source": [
    "### B. Partially Random $M$ [40x80] ($=M_1M_2$) \n",
    "\n",
    "* See if we generate M as the product of two random matrices will be easier to learn\n",
    "* The key is that in this case, the pixels in $M$ will not be completely independent. **There is a hidden structure**"
   ]
  },
  {
   "cell_type": "markdown",
   "metadata": {},
   "source": [
    "#### B1. $M_1$[40x3] $M_2$[3x80]) \n",
    "\n",
    "* num_intermediate = **3**\n"
   ]
  },
  {
   "cell_type": "code",
   "execution_count": 9,
   "metadata": {},
   "outputs": [
    {
     "name": "stdout",
     "output_type": "stream",
     "text": [
      "M:\n",
      " [[0.949  0.9622 0.8119 ... 0.7524 0.6211 0.4683]\n",
      " [0.8842 0.8581 0.822  ... 0.606  0.5132 0.473 ]\n",
      " [1.1958 1.1194 1.0168 ... 1.0068 0.7602 0.6791]\n",
      " ...\n",
      " [0.8944 1.03   0.7698 ... 0.6377 0.618  0.3234]\n",
      " [1.1872 1.1459 1.1522 ... 0.7319 0.6471 0.6411]\n",
      " [1.0824 1.0951 0.907  ... 0.8927 0.7234 0.5364]]\n",
      "Case 2 rmse:  0.07173282\n",
      "Case 3 rmse:  3.834189e-05\n",
      "Case 4 rmse:  9.944749e-06\n",
      "Case 5 rmse:  7.0258844e-05\n",
      "Case 10 rmse:  0.00035064327\n",
      "Case 15 rmse:  9.616461e-05\n",
      "Case 20 rmse:  0.0001265474\n",
      "Case 25 rmse:  0.00018341745\n",
      "Case 30 rmse:  0.00023653844\n",
      "Case 35 rmse:  0.00015789867\n",
      "Case 40 rmse:  0.00050836353\n",
      "Case 45 rmse:  0.00027998685\n",
      "Case 50 rmse:  0.000731268\n"
     ]
    }
   ],
   "source": [
    "# ------\n",
    "num_row = 40\n",
    "num_col = 80\n",
    "# ------\n",
    "\n",
    "num_intermediate = 3 # fixed\n",
    "\n",
    "M1 = mat_gen([num_row, num_intermediate], keep_prob=1., seed=0) \n",
    "M2 = mat_gen([num_intermediate, num_col], keep_prob=1., seed=0)\n",
    "M = np.matmul(M1, M2)\n",
    "print('M:\\n', M)\n",
    "\n",
    "rmse_B1 = []\n",
    "for hidden_size in h_list:\n",
    "    model = MatrixFactoriztionNN(M, hidden_size) \n",
    "    [W1, W2, rmse] = model.solve(max_epoch = 30000, rmse_tolerance=1e-10, verbose=False)\n",
    "    print('Case ' + str(hidden_size)+ ' rmse: ', rmse)\n",
    "    rmse_B1.append(rmse)\n"
   ]
  },
  {
   "cell_type": "markdown",
   "metadata": {},
   "source": [
    "#### B2. $M_1$[40x15] $M_2$[15x80]) \n",
    "\n",
    "* num_intermediate = **15**\n"
   ]
  },
  {
   "cell_type": "code",
   "execution_count": 10,
   "metadata": {},
   "outputs": [
    {
     "name": "stdout",
     "output_type": "stream",
     "text": [
      "M:\n",
      " [[4.1936 4.5539 4.4221 ... 3.472  5.0589 5.3585]\n",
      " [3.669  4.2571 3.7241 ... 3.6089 4.3039 5.0734]\n",
      " [4.054  4.5153 3.6977 ... 3.3211 3.7281 4.4523]\n",
      " ...\n",
      " [4.4549 4.9721 4.8969 ... 3.4995 4.6862 5.6439]\n",
      " [3.9524 3.8125 3.5403 ... 2.397  2.8402 3.677 ]\n",
      " [2.9443 4.1554 3.5248 ... 2.9124 3.7706 4.4722]]\n",
      "Case 2 rmse:  0.28085107\n",
      "Case 3 rmse:  0.2542333\n",
      "Case 4 rmse:  0.23003101\n",
      "Case 5 rmse:  0.20532255\n",
      "Case 10 rmse:  0.10839217\n",
      "Case 15 rmse:  0.00024200075\n",
      "Case 20 rmse:  0.00012411113\n",
      "Case 25 rmse:  3.5607172e-05\n",
      "Case 30 rmse:  0.0014120609\n",
      "Case 35 rmse:  0.0010170764\n",
      "Case 40 rmse:  0.0005936978\n",
      "Case 45 rmse:  0.00085893035\n",
      "Case 50 rmse:  0.0007234091\n"
     ]
    }
   ],
   "source": [
    "# ------\n",
    "num_row = 40\n",
    "num_col = 80\n",
    "# ------\n",
    "\n",
    "num_intermediate = 15 # fixed\n",
    "\n",
    "M1 = mat_gen([num_row, num_intermediate], keep_prob=1., seed=0) \n",
    "M2 = mat_gen([num_intermediate, num_col], keep_prob=1., seed=0)\n",
    "M = np.matmul(M1, M2)\n",
    "print('M:\\n', M)\n",
    "\n",
    "rmse_B2 = []\n",
    "for hidden_size in h_list:\n",
    "    model = MatrixFactoriztionNN(M, hidden_size) \n",
    "    [W1, W2, rmse] = model.solve(max_epoch = 30000, rmse_tolerance=1e-10, verbose=False)\n",
    "    print('Case ' + str(hidden_size)+ ' rmse: ', rmse)\n",
    "    rmse_B2.append(rmse)"
   ]
  },
  {
   "cell_type": "markdown",
   "metadata": {},
   "source": [
    "## RMSE as  a function of latent vector length\n",
    "\n",
    "* The plot shows that:\n",
    "    * A. completely random M takes larger than ~>35 hidden unit to fit.\n",
    "    * B1. M generated n_intermediate = 3 (less random) only needs a small hidden layer to fit (~> 3)\n",
    "    * B2. M generated n_intermediate = 15 (more random) needs more hidden layer to fit (~> 15)"
   ]
  },
  {
   "cell_type": "code",
   "execution_count": 36,
   "metadata": {},
   "outputs": [
    {
     "data": {
      "image/png": "[encoded data removed]",
      "text/plain": [
       "<matplotlib.figure.Figure at 0x18310d3630>"
      ]
     },
     "metadata": {},
     "output_type": "display_data"
    }
   ],
   "source": [
    "import matplotlib.pyplot as plt\n",
    "%matplotlib inline\n",
    "\n",
    "plt.figure(figsize=[12, 5])\n",
    "plt.semilogy(h_list, rmse_A, '-', label='A. M random')\n",
    "h_B1 = plt.semilogy(h_list, rmse_B1, '--o', label='B1. M=M1M2 n_intermediate = 3')\n",
    "h_B2 = plt.semilogy(h_list, rmse_B2, '--X', label='B2. M=M1M2 n_intermediate = 15')\n",
    "plt.axvline(x=3, color=h_B1[0].get_color(), linestyle=':')\n",
    "plt.axvline(x=15, color=h_B2[0].get_color(), linestyle=':')\n",
    "plt.ylabel('Matrix rmse')\n",
    "plt.xlabel('Hidden layer size (size of latent vector, model capacity) ')\n",
    "plt.legend()\n",
    "plt.show()"
   ]
  },
  {
   "cell_type": "markdown",
   "metadata": {},
   "source": [
    "## Summary\n",
    "\n",
    "1. Whether there are hidden sstructures or not affects how large the model need to be for the factorization to work.\n",
    "    1. For completely random $M$, the model will need sufficiently large capacity to reproduce each element because they are all independent, and there's no hidden structure to be learned.\n",
    "    2. For $M = M_1 M_2$ (so $M$ is not a complete random matrix), the dimension of freedom has to do with the intermediate dimension. This shows that the latent structures are indeed learned, so you do not need as much parameters to describe the data. \n"
   ]
  },
  {
   "cell_type": "markdown",
   "metadata": {},
   "source": [
    "## Note\n",
    "\n",
    "While interesting, this is actually not how matrix factorization workk in a recommendataion system. In a reallistic problem the data matrix is likely sparse, with the emptiness representing the lack of data rather than true zeros. So what we really want to do is to train on the availale matrix elements and learn latent vectors that can be used to predict these missiing spots. (See, for example, the explanation in [this post](http://www.albertauyeung.com/post/python-matrix-factorization/))\n"
   ]
  },
  {
   "cell_type": "code",
   "execution_count": null,
   "metadata": {},
   "outputs": [],
   "source": []
  }
 ],
 "metadata": {
  "kernelspec": {
   "display_name": "Python 3",
   "language": "python",
   "name": "python3"
  },
  "language_info": {
   "codemirror_mode": {
    "name": "ipython",
    "version": 3
   },
   "file_extension": ".py",
   "mimetype": "text/x-python",
   "name": "python",
   "nbconvert_exporter": "python",
   "pygments_lexer": "ipython3",
   "version": "3.6.3"
  }
 },
 "nbformat": 4,
 "nbformat_minor": 2
}

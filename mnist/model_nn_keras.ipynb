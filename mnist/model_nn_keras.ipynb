{
 "cells": [
  {
   "cell_type": "markdown",
   "metadata": {},
   "source": [
    "# model nn keras\n",
    "\n",
    "* [keras guide](https://keras.io/getting-started/functional-api-guide/)"
   ]
  },
  {
   "cell_type": "code",
   "execution_count": 1,
   "metadata": {},
   "outputs": [
    {
     "name": "stderr",
     "output_type": "stream",
     "text": [
      "/Users/lywang/anaconda3/lib/python3.6/site-packages/h5py/__init__.py:34: FutureWarning: Conversion of the second argument of issubdtype from `float` to `np.floating` is deprecated. In future, it will be treated as `np.float64 == np.dtype(float).type`.\n",
      "  from ._conv import register_converters as _register_converters\n"
     ]
    },
    {
     "name": "stdout",
     "output_type": "stream",
     "text": [
      "1.10.0\n",
      "2.2.2\n"
     ]
    },
    {
     "name": "stderr",
     "output_type": "stream",
     "text": [
      "Using TensorFlow backend.\n"
     ]
    }
   ],
   "source": [
    "\n",
    "import os\n",
    "import numpy as np\n",
    "import tensorflow as tf\n",
    "import keras \n",
    "from keras.layers import Input, Dense  \n",
    "from keras.models import Model\n",
    "from keras.utils import to_categorical\n",
    "from keras import backend as K\n",
    "from keras.callbacks import  EarlyStopping, ModelCheckpoint\n",
    "from helper import read_mnist_data\n",
    "\n",
    "\n",
    "\n",
    "print(tf.__version__)\n",
    "print(keras.__version__)"
   ]
  },
  {
   "cell_type": "code",
   "execution_count": 2,
   "metadata": {},
   "outputs": [
    {
     "name": "stdout",
     "output_type": "stream",
     "text": [
      "(60000, 784) (60000, 1)\n",
      "(10000, 784) (10000, 1)\n"
     ]
    }
   ],
   "source": [
    "DATA_PATH = '/Users/lywang/Data/mnist'\n",
    "image_train, label_train, image_test, label_test = read_mnist_data(DATA_PATH)\n",
    "print(image_train.shape, label_train.shape )\n",
    "print(image_test.shape, label_test.shape )"
   ]
  },
  {
   "cell_type": "code",
   "execution_count": 3,
   "metadata": {},
   "outputs": [],
   "source": [
    "label_train_onehot = to_categorical(label_train)\n",
    "label_test_onehot = to_categorical(label_test)"
   ]
  },
  {
   "cell_type": "code",
   "execution_count": 4,
   "metadata": {},
   "outputs": [],
   "source": [
    "MODEL_DIR = 'model_checkpoints/'"
   ]
  },
  {
   "cell_type": "code",
   "execution_count": 5,
   "metadata": {},
   "outputs": [
    {
     "name": "stdout",
     "output_type": "stream",
     "text": [
      "Train on 45000 samples, validate on 15000 samples\n",
      "Epoch 1/100\n",
      "45000/45000 [==============================] - 25s 561us/step - loss: 5.6121 - acc: 0.6321 - val_loss: 3.2511 - val_acc: 0.7754\n",
      "\n",
      "Epoch 00001: val_loss improved from inf to 3.25107, saving model to model_checkpoints/keras.01-3.25-0.78.hdf5\n",
      "Epoch 2/100\n",
      "45000/45000 [==============================] - 18s 402us/step - loss: 2.5514 - acc: 0.8280 - val_loss: 2.5776 - val_acc: 0.8281\n",
      "\n",
      "Epoch 00002: val_loss improved from 3.25107 to 2.57760, saving model to model_checkpoints/keras.02-2.58-0.83.hdf5\n",
      "Epoch 3/100\n",
      "45000/45000 [==============================] - 18s 401us/step - loss: 2.3092 - acc: 0.8451 - val_loss: 2.2990 - val_acc: 0.8473\n",
      "\n",
      "Epoch 00003: val_loss improved from 2.57760 to 2.29898, saving model to model_checkpoints/keras.03-2.30-0.85.hdf5\n",
      "Epoch 4/100\n",
      "45000/45000 [==============================] - 19s 417us/step - loss: 2.2075 - acc: 0.8526 - val_loss: 2.3119 - val_acc: 0.8477\n",
      "\n",
      "Epoch 00004: val_loss did not improve from 2.29898\n",
      "Epoch 5/100\n",
      "45000/45000 [==============================] - 2147s 48ms/step - loss: 2.1130 - acc: 0.8596 - val_loss: 2.3015 - val_acc: 0.8477\n",
      "\n",
      "Epoch 00005: val_loss did not improve from 2.29898\n",
      "Epoch 6/100\n",
      "45000/45000 [==============================] - 21s 475us/step - loss: 2.0363 - acc: 0.8659 - val_loss: 2.1636 - val_acc: 0.8578\n",
      "\n",
      "Epoch 00006: val_loss improved from 2.29898 to 2.16363, saving model to model_checkpoints/keras.06-2.16-0.86.hdf5\n",
      "Epoch 7/100\n",
      "45000/45000 [==============================] - 17s 373us/step - loss: 2.0178 - acc: 0.8675 - val_loss: 2.1714 - val_acc: 0.8590\n",
      "\n",
      "Epoch 00007: val_loss did not improve from 2.16363\n",
      "Epoch 8/100\n",
      "45000/45000 [==============================] - 7222s 160ms/step - loss: 1.9659 - acc: 0.8711 - val_loss: 2.1198 - val_acc: 0.8613\n",
      "\n",
      "Epoch 00008: val_loss improved from 2.16363 to 2.11979, saving model to model_checkpoints/keras.08-2.12-0.86.hdf5\n",
      "Epoch 9/100\n",
      "45000/45000 [==============================] - 17s 375us/step - loss: 1.9504 - acc: 0.8729 - val_loss: 2.1002 - val_acc: 0.8633\n",
      "\n",
      "Epoch 00009: val_loss improved from 2.11979 to 2.10020, saving model to model_checkpoints/keras.09-2.10-0.86.hdf5\n",
      "Epoch 10/100\n",
      "45000/45000 [==============================] - 17s 388us/step - loss: 1.8923 - acc: 0.8770 - val_loss: 2.0919 - val_acc: 0.8633\n",
      "\n",
      "Epoch 00010: val_loss improved from 2.10020 to 2.09193, saving model to model_checkpoints/keras.10-2.09-0.86.hdf5\n",
      "Epoch 11/100\n",
      "45000/45000 [==============================] - 18s 395us/step - loss: 1.8895 - acc: 0.8781 - val_loss: 2.0588 - val_acc: 0.8667\n",
      "\n",
      "Epoch 00011: val_loss improved from 2.09193 to 2.05885, saving model to model_checkpoints/keras.11-2.06-0.87.hdf5\n",
      "Epoch 12/100\n",
      "45000/45000 [==============================] - 7221s 160ms/step - loss: 1.8667 - acc: 0.8789 - val_loss: 2.0769 - val_acc: 0.8634\n",
      "\n",
      "Epoch 00012: val_loss did not improve from 2.05885\n",
      "Epoch 13/100\n",
      "45000/45000 [==============================] - 21s 468us/step - loss: 1.8592 - acc: 0.8797 - val_loss: 2.1119 - val_acc: 0.8622\n",
      "\n",
      "Epoch 00013: val_loss did not improve from 2.05885\n",
      "Epoch 14/100\n",
      "45000/45000 [==============================] - 7217s 160ms/step - loss: 1.8492 - acc: 0.8805 - val_loss: 1.9964 - val_acc: 0.8685\n",
      "\n",
      "Epoch 00014: val_loss improved from 2.05885 to 1.99643, saving model to model_checkpoints/keras.14-2.00-0.87.hdf5\n",
      "Epoch 15/100\n",
      "45000/45000 [==============================] - 23s 507us/step - loss: 0.6554 - acc: 0.9494 - val_loss: 0.6424 - val_acc: 0.9512\n",
      "\n",
      "Epoch 00015: val_loss improved from 1.99643 to 0.64245, saving model to model_checkpoints/keras.15-0.64-0.95.hdf5\n",
      "Epoch 16/100\n",
      "45000/45000 [==============================] - 17s 376us/step - loss: 0.4466 - acc: 0.9654 - val_loss: 0.5974 - val_acc: 0.9534\n",
      "\n",
      "Epoch 00016: val_loss improved from 0.64245 to 0.59745, saving model to model_checkpoints/keras.16-0.60-0.95.hdf5\n",
      "Epoch 17/100\n",
      "45000/45000 [==============================] - 6468s 144ms/step - loss: 0.3959 - acc: 0.9680 - val_loss: 0.5953 - val_acc: 0.9559\n",
      "\n",
      "Epoch 00017: val_loss improved from 0.59745 to 0.59527, saving model to model_checkpoints/keras.17-0.60-0.96.hdf5\n",
      "Epoch 18/100\n",
      "45000/45000 [==============================] - 18s 393us/step - loss: 0.3641 - acc: 0.9722 - val_loss: 0.5233 - val_acc: 0.9590\n",
      "\n",
      "Epoch 00018: val_loss improved from 0.59527 to 0.52333, saving model to model_checkpoints/keras.18-0.52-0.96.hdf5\n",
      "Epoch 19/100\n",
      "45000/45000 [==============================] - 7217s 160ms/step - loss: 0.3424 - acc: 0.9732 - val_loss: 0.6289 - val_acc: 0.9526\n",
      "\n",
      "Epoch 00019: val_loss did not improve from 0.52333\n",
      "Epoch 20/100\n",
      "45000/45000 [==============================] - 20s 449us/step - loss: 0.3317 - acc: 0.9735 - val_loss: 0.5049 - val_acc: 0.9621\n",
      "\n",
      "Epoch 00020: val_loss improved from 0.52333 to 0.50485, saving model to model_checkpoints/keras.20-0.50-0.96.hdf5\n",
      "Epoch 21/100\n",
      "45000/45000 [==============================] - 16s 363us/step - loss: 0.3043 - acc: 0.9757 - val_loss: 0.5412 - val_acc: 0.9584\n",
      "\n",
      "Epoch 00021: val_loss did not improve from 0.50485\n",
      "Epoch 22/100\n",
      "45000/45000 [==============================] - 1944s 43ms/step - loss: 0.2835 - acc: 0.9767 - val_loss: 0.4807 - val_acc: 0.9613\n",
      "\n",
      "Epoch 00022: val_loss improved from 0.50485 to 0.48068, saving model to model_checkpoints/keras.22-0.48-0.96.hdf5\n",
      "Epoch 23/100\n",
      "45000/45000 [==============================] - 21s 467us/step - loss: 0.2664 - acc: 0.9786 - val_loss: 0.5348 - val_acc: 0.9591\n",
      "\n",
      "Epoch 00023: val_loss did not improve from 0.48068\n",
      "Epoch 24/100\n",
      "45000/45000 [==============================] - 21s 474us/step - loss: 0.2530 - acc: 0.9796 - val_loss: 0.4710 - val_acc: 0.9641\n",
      "\n",
      "Epoch 00024: val_loss improved from 0.48068 to 0.47097, saving model to model_checkpoints/keras.24-0.47-0.96.hdf5\n",
      "Epoch 25/100\n",
      "45000/45000 [==============================] - 33s 737us/step - loss: 0.2532 - acc: 0.9802 - val_loss: 0.5568 - val_acc: 0.9569\n",
      "\n",
      "Epoch 00025: val_loss did not improve from 0.47097\n",
      "Epoch 26/100\n",
      "45000/45000 [==============================] - 27s 602us/step - loss: 0.2393 - acc: 0.9808 - val_loss: 0.5027 - val_acc: 0.9626\n",
      "\n",
      "Epoch 00026: val_loss did not improve from 0.47097\n",
      "Epoch 27/100\n",
      "45000/45000 [==============================] - 21s 467us/step - loss: 0.2272 - acc: 0.9821 - val_loss: 0.5075 - val_acc: 0.9611\n",
      "\n",
      "Epoch 00027: val_loss did not improve from 0.47097\n",
      "Epoch 28/100\n",
      "45000/45000 [==============================] - 22s 498us/step - loss: 0.2177 - acc: 0.9820 - val_loss: 0.4628 - val_acc: 0.9642\n",
      "\n",
      "Epoch 00028: val_loss improved from 0.47097 to 0.46278, saving model to model_checkpoints/keras.28-0.46-0.96.hdf5\n",
      "Epoch 29/100\n",
      "45000/45000 [==============================] - 25s 553us/step - loss: 0.2085 - acc: 0.9829 - val_loss: 0.4413 - val_acc: 0.9663\n",
      "\n",
      "Epoch 00029: val_loss improved from 0.46278 to 0.44134, saving model to model_checkpoints/keras.29-0.44-0.97.hdf5\n",
      "Epoch 30/100\n",
      "45000/45000 [==============================] - 27s 592us/step - loss: 0.1906 - acc: 0.9845 - val_loss: 0.4853 - val_acc: 0.9640\n",
      "\n",
      "Epoch 00030: val_loss did not improve from 0.44134\n",
      "Epoch 31/100\n",
      "45000/45000 [==============================] - 20s 440us/step - loss: 0.1970 - acc: 0.9840 - val_loss: 0.4368 - val_acc: 0.9665\n",
      "\n",
      "Epoch 00031: val_loss improved from 0.44134 to 0.43685, saving model to model_checkpoints/keras.31-0.44-0.97.hdf5\n",
      "Epoch 32/100\n",
      "45000/45000 [==============================] - 34s 755us/step - loss: 0.1775 - acc: 0.9857 - val_loss: 0.4351 - val_acc: 0.9667\n",
      "\n",
      "Epoch 00032: val_loss improved from 0.43685 to 0.43508, saving model to model_checkpoints/keras.32-0.44-0.97.hdf5\n",
      "Epoch 33/100\n",
      "45000/45000 [==============================] - 28s 614us/step - loss: 0.1799 - acc: 0.9852 - val_loss: 0.5012 - val_acc: 0.9625\n",
      "\n",
      "Epoch 00033: val_loss did not improve from 0.43508\n",
      "Epoch 34/100\n",
      "45000/45000 [==============================] - 28s 617us/step - loss: 0.1905 - acc: 0.9852 - val_loss: 0.6119 - val_acc: 0.9548\n",
      "\n",
      "Epoch 00034: val_loss did not improve from 0.43508\n",
      "Epoch 35/100\n",
      "45000/45000 [==============================] - 28s 616us/step - loss: 0.1900 - acc: 0.9854 - val_loss: 0.4466 - val_acc: 0.9667\n",
      "\n",
      "Epoch 00035: val_loss did not improve from 0.43508\n",
      "Epoch 36/100\n",
      "45000/45000 [==============================] - 22s 490us/step - loss: 0.1831 - acc: 0.9859 - val_loss: 0.4425 - val_acc: 0.9669\n"
     ]
    },
    {
     "name": "stdout",
     "output_type": "stream",
     "text": [
      "\n",
      "Epoch 00036: val_loss did not improve from 0.43508\n",
      "Epoch 37/100\n",
      "45000/45000 [==============================] - 19s 432us/step - loss: 0.1630 - acc: 0.9869 - val_loss: 0.4758 - val_acc: 0.9636\n",
      "\n",
      "Epoch 00037: val_loss did not improve from 0.43508\n"
     ]
    },
    {
     "data": {
      "text/plain": [
       "<keras.callbacks.History at 0x1834ab5828>"
      ]
     },
     "execution_count": 5,
     "metadata": {},
     "output_type": "execute_result"
    }
   ],
   "source": [
    "# restart training everytime\n",
    "K.clear_session()\n",
    "\n",
    "model_path = os.path.join(MODEL_DIR, 'keras.{epoch:02d}-{val_loss:.2f}-{val_acc:.2f}.hdf5')\n",
    "\n",
    "# construct\n",
    "inputs = Input(shape=(784,))\n",
    "x = Dense(128, activation='relu')(inputs)\n",
    "x = Dense(64, activation='relu')(x)\n",
    "x = Dense(32, activation='relu')(x)\n",
    "predictions = Dense(10, activation='softmax')(x)\n",
    "model = Model(inputs=inputs, outputs=predictions)\n",
    "\n",
    "model.compile(optimizer='rmsprop',\n",
    "              loss='categorical_crossentropy',\n",
    "              metrics=['accuracy'])\n",
    "\n",
    "callback_list = [EarlyStopping(monitor='val_loss', patience=5),\n",
    "                 ModelCheckpoint(model_path, monitor='val_loss', \n",
    "                                 verbose=1, save_best_only=True, \n",
    "                                 period=1)\n",
    "                ]\n",
    "model.fit(image_train, label_train_onehot, \n",
    "          batch_size=500, \n",
    "          epochs=100, \n",
    "          shuffle=True,\n",
    "          validation_split=0.25,\n",
    "          callbacks=callback_list)  # starts training"
   ]
  },
  {
   "cell_type": "markdown",
   "metadata": {},
   "source": [
    "## load model for prediction\n"
   ]
  },
  {
   "cell_type": "code",
   "execution_count": 7,
   "metadata": {},
   "outputs": [],
   "source": [
    "loaded_model = keras.models.load_model(os.path.join(MODEL_DIR, 'keras_128x64x32.32-0.44-0.97.hdf5'))"
   ]
  },
  {
   "cell_type": "code",
   "execution_count": 8,
   "metadata": {},
   "outputs": [],
   "source": [
    "prediction = loaded_model.predict(image_test)\n",
    "prediction = np.argmax(prediction, axis=1)"
   ]
  },
  {
   "cell_type": "code",
   "execution_count": 9,
   "metadata": {},
   "outputs": [
    {
     "name": "stdout",
     "output_type": "stream",
     "text": [
      "test acc: 0.9704 (error rate 2.96%) \n"
     ]
    }
   ],
   "source": [
    "test_acc = sum(prediction == np.squeeze(label_test)) / len(prediction)\n",
    "print('test acc: {} (error rate {:.2f}%) '.format(test_acc, (1-test_acc)*100))"
   ]
  },
  {
   "cell_type": "markdown",
   "metadata": {},
   "source": [
    "record: \n",
    "\n",
    "64x64x32: val_acc 0.9469; test_acc 0.9506\n",
    "\n",
    "128x64x32: val_acc 0.9869; test_acc 0.9704\n"
   ]
  },
  {
   "cell_type": "code",
   "execution_count": null,
   "metadata": {},
   "outputs": [],
   "source": []
  }
 ],
 "metadata": {
  "kernelspec": {
   "display_name": "Python 3",
   "language": "python",
   "name": "python3"
  },
  "language_info": {
   "codemirror_mode": {
    "name": "ipython",
    "version": 3
   },
   "file_extension": ".py",
   "mimetype": "text/x-python",
   "name": "python",
   "nbconvert_exporter": "python",
   "pygments_lexer": "ipython3",
   "version": "3.6.3"
  }
 },
 "nbformat": 4,
 "nbformat_minor": 2
}

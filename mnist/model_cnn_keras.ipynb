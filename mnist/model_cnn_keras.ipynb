{
 "cells": [
  {
   "cell_type": "markdown",
   "metadata": {},
   "source": [
    "# Model: CNN Keras\n",
    "\n",
    "* Note: Run this on a laptop (without GPU) is fine (~1hr)."
   ]
  },
  {
   "cell_type": "code",
   "execution_count": 21,
   "metadata": {},
   "outputs": [
    {
     "name": "stdout",
     "output_type": "stream",
     "text": [
      "1.10.0\n",
      "2.2.2\n"
     ]
    }
   ],
   "source": [
    "import os\n",
    "import numpy as np\n",
    "import tensorflow as tf\n",
    "import keras \n",
    "from keras.layers import Input, Dense, Conv2D, Reshape, Flatten, MaxPooling2D\n",
    "from keras.models import Model\n",
    "from keras.utils import to_categorical\n",
    "from keras import backend as K\n",
    "from keras.callbacks import EarlyStopping, ModelCheckpoint\n",
    "\n",
    "from helper import read_mnist_data\n",
    "\n",
    "print(tf.__version__)\n",
    "print(keras.__version__)"
   ]
  },
  {
   "cell_type": "code",
   "execution_count": 10,
   "metadata": {},
   "outputs": [
    {
     "name": "stdout",
     "output_type": "stream",
     "text": [
      "(60000, 784) (60000, 1)\n",
      "(10000, 784) (10000, 1)\n",
      "(60000, 10)\n",
      "(10000, 10)\n"
     ]
    }
   ],
   "source": [
    "DATA_PATH = '/Users/lywang/Data/mnist'\n",
    "image_train, label_train, image_test, label_test = read_mnist_data(DATA_PATH)\n",
    "print(image_train.shape, label_train.shape )\n",
    "print(image_test.shape, label_test.shape )\n",
    "\n",
    "# one-hot encode labels\n",
    "label_train_onehot = to_categorical(label_train)\n",
    "label_test_onehot = to_categorical(label_test)\n",
    "print(label_train_onehot.shape )\n",
    "print(label_test_onehot.shape )"
   ]
  },
  {
   "cell_type": "code",
   "execution_count": 11,
   "metadata": {},
   "outputs": [],
   "source": [
    "MODEL_DIR = 'model_checkpoints_cnn/'"
   ]
  },
  {
   "cell_type": "code",
   "execution_count": 27,
   "metadata": {},
   "outputs": [
    {
     "name": "stdout",
     "output_type": "stream",
     "text": [
      "_________________________________________________________________\n",
      "Layer (type)                 Output Shape              Param #   \n",
      "=================================================================\n",
      "input_1 (InputLayer)         (None, 784)               0         \n",
      "_________________________________________________________________\n",
      "reshape_1 (Reshape)          (None, 28, 28, 1)         0         \n",
      "_________________________________________________________________\n",
      "conv2d_1 (Conv2D)            (None, 24, 24, 16)        416       \n",
      "_________________________________________________________________\n",
      "max_pooling2d_1 (MaxPooling2 (None, 8, 8, 16)          0         \n",
      "_________________________________________________________________\n",
      "conv2d_2 (Conv2D)            (None, 6, 6, 8)           1160      \n",
      "_________________________________________________________________\n",
      "max_pooling2d_2 (MaxPooling2 (None, 3, 3, 8)           0         \n",
      "_________________________________________________________________\n",
      "flatten_1 (Flatten)          (None, 72)                0         \n",
      "_________________________________________________________________\n",
      "dense_1 (Dense)              (None, 32)                2336      \n",
      "_________________________________________________________________\n",
      "dense_2 (Dense)              (None, 10)                330       \n",
      "=================================================================\n",
      "Total params: 4,242\n",
      "Trainable params: 4,242\n",
      "Non-trainable params: 0\n",
      "_________________________________________________________________\n",
      "Train on 45000 samples, validate on 15000 samples\n",
      "Epoch 1/100\n",
      "45000/45000 [==============================] - 110s 2ms/step - loss: 10.1580 - acc: 0.3533 - val_loss: 9.6991 - val_acc: 0.3897\n",
      "\n",
      "Epoch 00001: val_loss improved from inf to 9.69915, saving model to model_checkpoints_cnn/keras.01-9.70-0.39.hdf5\n",
      "Epoch 2/100\n",
      "45000/45000 [==============================] - 117s 3ms/step - loss: 4.9114 - acc: 0.6172 - val_loss: 3.9085 - val_acc: 0.7003\n",
      "\n",
      "Epoch 00002: val_loss improved from 9.69915 to 3.90850, saving model to model_checkpoints_cnn/keras.02-3.91-0.70.hdf5\n",
      "Epoch 3/100\n",
      "45000/45000 [==============================] - 111s 2ms/step - loss: 1.4107 - acc: 0.7872 - val_loss: 0.5826 - val_acc: 0.8564\n",
      "\n",
      "Epoch 00003: val_loss improved from 3.90850 to 0.58258, saving model to model_checkpoints_cnn/keras.03-0.58-0.86.hdf5\n",
      "Epoch 4/100\n",
      "45000/45000 [==============================] - 112s 2ms/step - loss: 0.4160 - acc: 0.8916 - val_loss: 0.3103 - val_acc: 0.9149\n",
      "\n",
      "Epoch 00004: val_loss improved from 0.58258 to 0.31034, saving model to model_checkpoints_cnn/keras.04-0.31-0.91.hdf5\n",
      "Epoch 5/100\n",
      "45000/45000 [==============================] - 119s 3ms/step - loss: 0.2666 - acc: 0.9251 - val_loss: 0.2221 - val_acc: 0.9379\n",
      "\n",
      "Epoch 00005: val_loss improved from 0.31034 to 0.22210, saving model to model_checkpoints_cnn/keras.05-0.22-0.94.hdf5\n",
      "Epoch 6/100\n",
      "45000/45000 [==============================] - 127s 3ms/step - loss: 0.1921 - acc: 0.9456 - val_loss: 0.1806 - val_acc: 0.9501\n",
      "\n",
      "Epoch 00006: val_loss improved from 0.22210 to 0.18057, saving model to model_checkpoints_cnn/keras.06-0.18-0.95.hdf5\n",
      "Epoch 7/100\n",
      "45000/45000 [==============================] - 124s 3ms/step - loss: 0.1560 - acc: 0.9543 - val_loss: 0.1552 - val_acc: 0.9569\n",
      "\n",
      "Epoch 00007: val_loss improved from 0.18057 to 0.15524, saving model to model_checkpoints_cnn/keras.07-0.16-0.96.hdf5\n",
      "Epoch 8/100\n",
      "45000/45000 [==============================] - 140s 3ms/step - loss: 0.1324 - acc: 0.9618 - val_loss: 0.1719 - val_acc: 0.9530\n",
      "\n",
      "Epoch 00008: val_loss did not improve from 0.15524\n",
      "Epoch 9/100\n",
      "45000/45000 [==============================] - 141s 3ms/step - loss: 0.1137 - acc: 0.9663 - val_loss: 0.1321 - val_acc: 0.9639\n",
      "\n",
      "Epoch 00009: val_loss improved from 0.15524 to 0.13207, saving model to model_checkpoints_cnn/keras.09-0.13-0.96.hdf5\n",
      "Epoch 10/100\n",
      "45000/45000 [==============================] - 168s 4ms/step - loss: 0.0988 - acc: 0.9707 - val_loss: 0.1255 - val_acc: 0.9641\n",
      "\n",
      "Epoch 00010: val_loss improved from 0.13207 to 0.12554, saving model to model_checkpoints_cnn/keras.10-0.13-0.96.hdf5\n",
      "Epoch 11/100\n",
      "45000/45000 [==============================] - 146s 3ms/step - loss: 0.0892 - acc: 0.9730 - val_loss: 0.1103 - val_acc: 0.9688\n",
      "\n",
      "Epoch 00011: val_loss improved from 0.12554 to 0.11032, saving model to model_checkpoints_cnn/keras.11-0.11-0.97.hdf5\n",
      "Epoch 12/100\n",
      "45000/45000 [==============================] - 132s 3ms/step - loss: 0.0816 - acc: 0.9757 - val_loss: 0.1050 - val_acc: 0.9711\n",
      "\n",
      "Epoch 00012: val_loss improved from 0.11032 to 0.10502, saving model to model_checkpoints_cnn/keras.12-0.11-0.97.hdf5\n",
      "Epoch 13/100\n",
      "45000/45000 [==============================] - 147s 3ms/step - loss: 0.0738 - acc: 0.9770 - val_loss: 0.1016 - val_acc: 0.9706\n",
      "\n",
      "Epoch 00013: val_loss improved from 0.10502 to 0.10163, saving model to model_checkpoints_cnn/keras.13-0.10-0.97.hdf5\n",
      "Epoch 14/100\n",
      "45000/45000 [==============================] - 155s 3ms/step - loss: 0.0693 - acc: 0.9793 - val_loss: 0.0940 - val_acc: 0.9743\n",
      "\n",
      "Epoch 00014: val_loss improved from 0.10163 to 0.09402, saving model to model_checkpoints_cnn/keras.14-0.09-0.97.hdf5\n",
      "Epoch 15/100\n",
      "45000/45000 [==============================] - 176s 4ms/step - loss: 0.0656 - acc: 0.9795 - val_loss: 0.0896 - val_acc: 0.9747\n",
      "\n",
      "Epoch 00015: val_loss improved from 0.09402 to 0.08957, saving model to model_checkpoints_cnn/keras.15-0.09-0.97.hdf5\n",
      "Epoch 16/100\n",
      "45000/45000 [==============================] - 1351s 30ms/step - loss: 0.0622 - acc: 0.9806 - val_loss: 0.1080 - val_acc: 0.9711\n",
      "\n",
      "Epoch 00016: val_loss did not improve from 0.08957\n",
      "Epoch 17/100\n",
      "45000/45000 [==============================] - 1284s 29ms/step - loss: 0.0559 - acc: 0.9823 - val_loss: 0.0874 - val_acc: 0.9758\n",
      "\n",
      "Epoch 00017: val_loss improved from 0.08957 to 0.08739, saving model to model_checkpoints_cnn/keras.17-0.09-0.98.hdf5\n",
      "Epoch 18/100\n",
      "45000/45000 [==============================] - 128s 3ms/step - loss: 0.0543 - acc: 0.9831 - val_loss: 0.0846 - val_acc: 0.9763\n",
      "\n",
      "Epoch 00018: val_loss improved from 0.08739 to 0.08463, saving model to model_checkpoints_cnn/keras.18-0.08-0.98.hdf5\n",
      "Epoch 19/100\n",
      "45000/45000 [==============================] - 166s 4ms/step - loss: 0.0501 - acc: 0.9838 - val_loss: 0.0831 - val_acc: 0.9766\n",
      "\n",
      "Epoch 00019: val_loss improved from 0.08463 to 0.08314, saving model to model_checkpoints_cnn/keras.19-0.08-0.98.hdf5\n",
      "Epoch 20/100\n",
      "45000/45000 [==============================] - 197s 4ms/step - loss: 0.0485 - acc: 0.9852 - val_loss: 0.0960 - val_acc: 0.9753\n",
      "\n",
      "Epoch 00020: val_loss did not improve from 0.08314\n",
      "Epoch 21/100\n",
      "45000/45000 [==============================] - 201s 4ms/step - loss: 0.0463 - acc: 0.9858 - val_loss: 0.0834 - val_acc: 0.9771\n",
      "\n",
      "Epoch 00021: val_loss did not improve from 0.08314\n",
      "Epoch 22/100\n",
      "45000/45000 [==============================] - 223s 5ms/step - loss: 0.0460 - acc: 0.9856 - val_loss: 0.0839 - val_acc: 0.9779\n",
      "\n",
      "Epoch 00022: val_loss did not improve from 0.08314\n",
      "Epoch 23/100\n",
      "45000/45000 [==============================] - 206s 5ms/step - loss: 0.0415 - acc: 0.9866 - val_loss: 0.0950 - val_acc: 0.9749\n",
      "\n",
      "Epoch 00023: val_loss did not improve from 0.08314\n",
      "Epoch 24/100\n",
      "45000/45000 [==============================] - 162s 4ms/step - loss: 0.0409 - acc: 0.9869 - val_loss: 0.0862 - val_acc: 0.9779\n",
      "\n",
      "Epoch 00024: val_loss did not improve from 0.08314\n"
     ]
    },
    {
     "data": {
      "text/plain": [
       "<keras.callbacks.History at 0x182a7109e8>"
      ]
     },
     "execution_count": 27,
     "metadata": {},
     "output_type": "execute_result"
    }
   ],
   "source": [
    "# restart training everytime\n",
    "K.clear_session()\n",
    "\n",
    "model_path = os.path.join(MODEL_DIR, 'keras.{epoch:02d}-{val_loss:.2f}-{val_acc:.2f}.hdf5')\n",
    "\n",
    "# construct\n",
    "inputs = Input(shape=(784,))\n",
    "x = Reshape((28, 28, 1))(inputs) # keras default: channel last\n",
    "x = Conv2D(16, (5,5), activation='relu')(x)\n",
    "x = MaxPooling2D((3,3))(x)\n",
    "x = Conv2D(8, (3,3), activation='relu')(x)\n",
    "x = MaxPooling2D((2,2))(x)\n",
    "x = Flatten()(x)\n",
    "x = Dense(32, activation='relu')(x)\n",
    "predictions = Dense(10, activation='softmax')(x)\n",
    "model = Model(inputs=inputs, outputs=predictions)\n",
    "\n",
    "model.compile(optimizer='rmsprop',\n",
    "              loss='categorical_crossentropy',\n",
    "              metrics=['accuracy'])\n",
    "model.summary()\n",
    "\n",
    "callback_list = [EarlyStopping(monitor='val_loss', patience=5),\n",
    "                 ModelCheckpoint(model_path, monitor='val_loss', \n",
    "                                 verbose=1, save_best_only=True, \n",
    "                                 period=1)\n",
    "                ]\n",
    "model.fit(image_train, label_train_onehot, \n",
    "          batch_size=500, \n",
    "          epochs=100, \n",
    "          shuffle=True,\n",
    "          validation_split=0.25,\n",
    "          callbacks=callback_list)  # starts training"
   ]
  },
  {
   "cell_type": "markdown",
   "metadata": {},
   "source": [
    "## load model for prediction"
   ]
  },
  {
   "cell_type": "code",
   "execution_count": 28,
   "metadata": {},
   "outputs": [],
   "source": [
    "loaded_model = keras.models.load_model(os.path.join(MODEL_DIR, 'keras.19-0.08-0.98.hdf5'))"
   ]
  },
  {
   "cell_type": "code",
   "execution_count": 29,
   "metadata": {},
   "outputs": [],
   "source": [
    "prediction = loaded_model.predict(image_test)\n",
    "prediction = np.argmax(prediction, axis=1)"
   ]
  },
  {
   "cell_type": "code",
   "execution_count": 30,
   "metadata": {},
   "outputs": [
    {
     "name": "stdout",
     "output_type": "stream",
     "text": [
      "test acc: 0.9796 (error rate 2.04%) \n"
     ]
    }
   ],
   "source": [
    "test_acc = sum(prediction == np.squeeze(label_test)) / len(prediction)\n",
    "print('test acc: {} (error rate {:.2f}%) '.format(test_acc, (1-test_acc)*100))"
   ]
  },
  {
   "cell_type": "markdown",
   "metadata": {},
   "source": [
    "Record\n",
    "\n",
    "train acc: 0.9869  \n",
    "\n",
    "test acc: 0.9796 (error rate 2.04%) "
   ]
  }
 ],
 "metadata": {
  "kernelspec": {
   "display_name": "Python 3",
   "language": "python",
   "name": "python3"
  },
  "language_info": {
   "codemirror_mode": {
    "name": "ipython",
    "version": 3
   },
   "file_extension": ".py",
   "mimetype": "text/x-python",
   "name": "python",
   "nbconvert_exporter": "python",
   "pygments_lexer": "ipython3",
   "version": "3.6.3"
  }
 },
 "nbformat": 4,
 "nbformat_minor": 2
}

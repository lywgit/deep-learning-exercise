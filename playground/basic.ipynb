{
 "cells": [
  {
   "cell_type": "markdown",
   "metadata": {},
   "source": [
    "# Tensorflow basic"
   ]
  },
  {
   "cell_type": "code",
   "execution_count": 1,
   "metadata": {},
   "outputs": [
    {
     "name": "stderr",
     "output_type": "stream",
     "text": [
      "/Users/lywang/anaconda3/lib/python3.6/site-packages/h5py/__init__.py:34: FutureWarning: Conversion of the second argument of issubdtype from `float` to `np.floating` is deprecated. In future, it will be treated as `np.float64 == np.dtype(float).type`.\n",
      "  from ._conv import register_converters as _register_converters\n"
     ]
    },
    {
     "name": "stdout",
     "output_type": "stream",
     "text": [
      "1.10.0\n"
     ]
    }
   ],
   "source": [
    "import tensorflow as tf\n",
    "print(tf.__version__)"
   ]
  },
  {
   "cell_type": "markdown",
   "metadata": {},
   "source": [
    "## Lazy evaluation"
   ]
  },
  {
   "cell_type": "code",
   "execution_count": 2,
   "metadata": {},
   "outputs": [
    {
     "name": "stdout",
     "output_type": "stream",
     "text": [
      "Tensor(\"Const:0\", shape=(3,), dtype=int32)\n",
      "Tensor(\"add:0\", shape=(3,), dtype=int32)\n"
     ]
    }
   ],
   "source": [
    "# tensorflow draws a \"Directed Acyclic Graph (DAG)\"  \n",
    "# tf nodes represent data or operations.\n",
    "a = tf.constant([1, 2, 3])\n",
    "b = a + a \n",
    "print(a) # data\n",
    "print(b) # operation"
   ]
  },
  {
   "cell_type": "code",
   "execution_count": 3,
   "metadata": {},
   "outputs": [
    {
     "name": "stdout",
     "output_type": "stream",
     "text": [
      "Tensor(\"my_node_c:0\", shape=(3,), dtype=int32)\n",
      "[1 2 3]\n"
     ]
    }
   ],
   "source": [
    "# evaluate a graph to get values in nodes\n",
    "c = tf.constant([1, 2, 3], name='my_node_c')\n",
    "with tf.Session() as ss:\n",
    "    result = ss.run(c)\n",
    "    \n",
    "print(c)      # still a tf node (even after run in a session), name assigned\n",
    "print(result) # value"
   ]
  },
  {
   "cell_type": "code",
   "execution_count": 4,
   "metadata": {},
   "outputs": [
    {
     "name": "stdout",
     "output_type": "stream",
     "text": [
      "Tensor(\"Add_1:0\", shape=(3,), dtype=int32)\n",
      "[3 6 9]\n"
     ]
    }
   ],
   "source": [
    "a = tf.constant([1, 2, 3])\n",
    "b = tf.Variable([2, 4, 6])  # initial value for variable\n",
    "c = tf.add(b, a) \n",
    "with tf.Session() as ss:\n",
    "    ss.run(tf.global_variables_initializer()) # probably always need this\n",
    "    result = ss.run(c)\n",
    "print(c)\n",
    "print(result)"
   ]
  },
  {
   "cell_type": "markdown",
   "metadata": {},
   "source": [
    "note: tf.get_variable is preferred over tf.Variable in nn "
   ]
  },
  {
   "cell_type": "markdown",
   "metadata": {},
   "source": [
    "## data type issue"
   ]
  },
  {
   "cell_type": "code",
   "execution_count": 5,
   "metadata": {},
   "outputs": [
    {
     "name": "stdout",
     "output_type": "stream",
     "text": [
      "[2 4 6]\n"
     ]
    }
   ],
   "source": [
    "a = tf.Variable([1, 2, 3])\n",
    "b = tf.Variable([1, 2, 3]) # change to tf.Variable([1, 2, 3.0]) will cause an error\n",
    "c = a + b\n",
    "with tf.Session() as ss:\n",
    "    ss.run(tf.global_variables_initializer()) # probably always need this\n",
    "    result = ss.run(c)\n",
    "print(result)"
   ]
  },
  {
   "cell_type": "code",
   "execution_count": null,
   "metadata": {},
   "outputs": [],
   "source": []
  }
 ],
 "metadata": {
  "kernelspec": {
   "display_name": "Python 3",
   "language": "python",
   "name": "python3"
  },
  "language_info": {
   "codemirror_mode": {
    "name": "ipython",
    "version": 3
   },
   "file_extension": ".py",
   "mimetype": "text/x-python",
   "name": "python",
   "nbconvert_exporter": "python",
   "pygments_lexer": "ipython3",
   "version": "3.6.3"
  }
 },
 "nbformat": 4,
 "nbformat_minor": 2
}
